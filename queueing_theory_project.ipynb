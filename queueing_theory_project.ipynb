{
  "nbformat": 4,
  "nbformat_minor": 0,
  "metadata": {
    "colab": {
      "provenance": []
    },
    "kernelspec": {
      "name": "python3",
      "display_name": "Python 3"
    },
    "language_info": {
      "name": "python"
    }
  },
  "cells": [
    {
      "cell_type": "markdown",
      "source": [
        "# A"
      ],
      "metadata": {
        "id": "hVapsXT-ZV7F"
      }
    },
    {
      "cell_type": "code",
      "source": [
        "from sympy import *\n",
        "\n",
        "def find_q(Lambda, mu):\n",
        "    q = symbols('q')\n",
        "    p = Lambda/(q*mu)\n",
        "    return nsolve(Eq((p**5) /(120 + 120*p + 60*(p**2) + 20*(p**3) + 5*(p**4) + p**5), 1 - q), q, 0.5)"
      ],
      "metadata": {
        "id": "wvRHwt4uA_zt"
      },
      "execution_count": null,
      "outputs": []
    },
    {
      "cell_type": "code",
      "source": [
        "from math import exp\n",
        "\n",
        "def discribe(Lambda, mu_1, mu_2):\n",
        "    q = float(find_q(Lambda, mu_1))\n",
        "\n",
        "    a_1 = Lambda/q\n",
        "    a_2 = ((1-q)*Lambda)/q\n",
        "\n",
        "    p_1 = a_1/mu_1\n",
        "    p_2 = a_2/mu_2\n",
        "\n",
        "    N_1 = p_1*exp(p_1)*120/(120 + 120*p_1 + 60*(p_1**2) + 20*(p_1**3) + 5*(p_1**4) + p_1**5)\n",
        "    N_2 = p_2/(1-p_2)\n",
        "    T_2 = N_2/a_2\n",
        "\n",
        "    w = (N_1 * N_2)/Lambda\n",
        "\n",
        "    if p_2 > 1:\n",
        "        a = 'none'\n",
        "    else:\n",
        "        a = {'waiting time':w, 'alpha_1':a_1, 'alpha_2':a_2, 'service time in queue 2': T_2, 'probability of depart': q,'p1':p_1, 'p2':p_2}\n",
        "    return a"
      ],
      "metadata": {
        "id": "RMWkkkI0DBoq"
      },
      "execution_count": null,
      "outputs": []
    },
    {
      "cell_type": "code",
      "source": [
        "a, lam  = 0, 0\n",
        "waiting_time, Lambda, q= [], [], []\n",
        "p1, p2 = [], []\n",
        "while a !='none':\n",
        "    lam += 0.01\n",
        "    a = discribe(lam, 1, 10)\n",
        "    if a != 'none' and a['alpha_1'] > 0 and a['alpha_2'] > 0 :\n",
        "        Lambda.append(lam)\n",
        "        waiting_time.append(a['waiting time'])\n",
        "        q.append(a['probability of depart'])\n"
      ],
      "metadata": {
        "id": "LxD3jrauDjP6"
      },
      "execution_count": null,
      "outputs": []
    },
    {
      "cell_type": "code",
      "source": [
        "lambda_to_waiting_time = {}\n",
        "lambda_to_q = {}\n",
        "\n",
        "for i in range(len(Lambda)):\n",
        "    if i % 20 == 0 and i < 0.8*(len(Lambda)):\n",
        "        lambda_to_waiting_time[round((Lambda[i]), 3)] = round(waiting_time[i], 4)\n",
        "        lambda_to_q[round((Lambda[i]), 3)] = round(q[i], 4)\n",
        "\n",
        "    elif i > 0.8*(len(Lambda)) and i % 2 == 0 :\n",
        "        lambda_to_waiting_time[round((Lambda[i]), 3)] = round(waiting_time[i], 4)\n",
        "        lambda_to_q[round((Lambda[i]), 3)] = round(q[i], 4)"
      ],
      "metadata": {
        "id": "k4TyIPNRWZA5"
      },
      "execution_count": null,
      "outputs": []
    },
    {
      "cell_type": "code",
      "source": [
        "lambda_to_waiting_time"
      ],
      "metadata": {
        "colab": {
          "base_uri": "https://localhost:8080/"
        },
        "id": "bkj-CMYiVM7M",
        "outputId": "42d95c80-17a9-42eb-892c-96c6231737f1"
      },
      "execution_count": null,
      "outputs": [
        {
          "output_type": "execute_result",
          "data": {
            "text/plain": [
              "{0.01: 0.0,\n",
              " 0.21: 0.0,\n",
              " 0.41: 0.0,\n",
              " 0.61: 0.0,\n",
              " 0.81: 0.0001,\n",
              " 1.01: 0.0003,\n",
              " 1.21: 0.0008,\n",
              " 1.41: 0.0017,\n",
              " 1.61: 0.0033,\n",
              " 1.81: 0.0058,\n",
              " 2.01: 0.0096,\n",
              " 2.21: 0.0154,\n",
              " 2.41: 0.024,\n",
              " 2.61: 0.0369,\n",
              " 2.81: 0.0566,\n",
              " 3.01: 0.0877,\n",
              " 3.21: 0.1397,\n",
              " 3.41: 0.233,\n",
              " 3.61: 0.4204,\n",
              " 3.69: 0.5498,\n",
              " 3.71: 0.5901,\n",
              " 3.73: 0.6345,\n",
              " 3.75: 0.6833,\n",
              " 3.77: 0.7373,\n",
              " 3.79: 0.7971,\n",
              " 3.81: 0.8636,\n",
              " 3.83: 0.9376,\n",
              " 3.85: 1.0203,\n",
              " 3.87: 1.113,\n",
              " 3.89: 1.2172,\n",
              " 3.91: 1.335,\n",
              " 3.93: 1.4684,\n",
              " 3.95: 1.6202,\n",
              " 3.97: 1.7937,\n",
              " 3.99: 1.9929,\n",
              " 4.01: 2.2225,\n",
              " 4.03: 2.4888,\n",
              " 4.05: 2.7991,\n",
              " 4.07: 3.1629,\n",
              " 4.09: 3.592,\n",
              " 4.11: 4.1014,\n",
              " 4.13: 4.7106,\n",
              " 4.15: 5.4447,\n",
              " 4.17: 6.3364,\n",
              " 4.19: 7.4294,\n",
              " 4.21: 8.7819,\n",
              " 4.23: 10.4731,\n",
              " 4.25: 12.6121,\n",
              " 4.27: 15.3513,\n",
              " 4.29: 18.9074,\n",
              " 4.31: 23.5943,\n",
              " 4.33: 29.8764,\n",
              " 4.35: 38.4558,\n",
              " 4.37: 50.4231,\n",
              " 4.39: 67.5221,\n",
              " 4.41: 92.6374,\n",
              " 4.43: 130.7353,\n",
              " 4.45: 190.7823,\n",
              " 4.47: 289.944,\n",
              " 4.49: 463.6343,\n",
              " 4.51: 792.652,\n",
              " 4.53: 1490.4537,\n",
              " 4.55: 3275.7946,\n",
              " 4.57: 10210.4169}"
            ]
          },
          "metadata": {},
          "execution_count": 236
        }
      ]
    },
    {
      "cell_type": "code",
      "source": [
        "lambda_to_q"
      ],
      "metadata": {
        "colab": {
          "base_uri": "https://localhost:8080/"
        },
        "id": "Vm9pTryoeS2o",
        "outputId": "27619b36-e043-49e7-99fa-701b717c7ff8"
      },
      "execution_count": null,
      "outputs": [
        {
          "output_type": "execute_result",
          "data": {
            "text/plain": [
              "{0.01: 1.0,\n",
              " 0.21: 1.0,\n",
              " 0.41: 0.9999,\n",
              " 0.61: 0.9996,\n",
              " 0.81: 0.9987,\n",
              " 1.01: 0.9968,\n",
              " 1.21: 0.9934,\n",
              " 1.41: 0.9881,\n",
              " 1.61: 0.9806,\n",
              " 1.81: 0.9705,\n",
              " 2.01: 0.9575,\n",
              " 2.21: 0.9413,\n",
              " 2.41: 0.9215,\n",
              " 2.61: 0.8978,\n",
              " 2.81: 0.8699,\n",
              " 3.01: 0.8374,\n",
              " 3.21: 0.7997,\n",
              " 3.41: 0.7561,\n",
              " 3.61: 0.706,\n",
              " 3.69: 0.6839,\n",
              " 3.71: 0.6782,\n",
              " 3.73: 0.6724,\n",
              " 3.75: 0.6665,\n",
              " 3.77: 0.6605,\n",
              " 3.79: 0.6544,\n",
              " 3.81: 0.6482,\n",
              " 3.83: 0.642,\n",
              " 3.85: 0.6357,\n",
              " 3.87: 0.6292,\n",
              " 3.89: 0.6227,\n",
              " 3.91: 0.6161,\n",
              " 3.93: 0.6093,\n",
              " 3.95: 0.6025,\n",
              " 3.97: 0.5956,\n",
              " 3.99: 0.5886,\n",
              " 4.01: 0.5814,\n",
              " 4.03: 0.5742,\n",
              " 4.05: 0.5668,\n",
              " 4.07: 0.5593,\n",
              " 4.09: 0.5517,\n",
              " 4.11: 0.544,\n",
              " 4.13: 0.5362,\n",
              " 4.15: 0.5282,\n",
              " 4.17: 0.5202,\n",
              " 4.19: 0.5119,\n",
              " 4.21: 0.5036,\n",
              " 4.23: 0.4951,\n",
              " 4.25: 0.4865,\n",
              " 4.27: 0.4777,\n",
              " 4.29: 0.4688,\n",
              " 4.31: 0.4597,\n",
              " 4.33: 0.4504,\n",
              " 4.35: 0.441,\n",
              " 4.37: 0.4315,\n",
              " 4.39: 0.4217,\n",
              " 4.41: 0.4118,\n",
              " 4.43: 0.4017,\n",
              " 4.45: 0.3915,\n",
              " 4.47: 0.381,\n",
              " 4.49: 0.3703,\n",
              " 4.51: 0.3594,\n",
              " 4.53: 0.3483,\n",
              " 4.55: 0.337,\n",
              " 4.57: 0.3255}"
            ]
          },
          "metadata": {},
          "execution_count": 237
        }
      ]
    },
    {
      "cell_type": "code",
      "source": [
        "import matplotlib.pyplot as plt\n",
        "\n",
        "plt.figure(figsize=(18,5))\n",
        "\n",
        "plt.subplot(1, 2, 1)\n",
        "plt.plot(Lambda, waiting_time)\n",
        "plt.xlabel(\"Lambda\")\n",
        "plt.ylabel(\"waiting time\")\n",
        "plt.grid()\n",
        "\n",
        "plt.subplot(1, 2, 2)\n",
        "plt.plot(Lambda,q)\n",
        "plt.xlabel(\"Lambda\")\n",
        "plt.ylabel(\"probability of depart\")\n",
        "plt.grid()\n",
        "\n",
        "plt.show()\n",
        "print('\\n maximum arrival rate:',max(Lambda))"
      ],
      "metadata": {
        "colab": {
          "base_uri": "https://localhost:8080/",
          "height": 369
        },
        "id": "C4-fauE2JqMi",
        "outputId": "7717b738-ce16-4516-aa19-807d6b855103"
      },
      "execution_count": null,
      "outputs": [
        {
          "output_type": "display_data",
          "data": {
            "text/plain": [
              "<Figure size 1296x360 with 2 Axes>"
            ],
            "image/png": "[encoded data removed]"
          },
          "metadata": {
            "needs_background": "light"
          }
        },
        {
          "output_type": "stream",
          "name": "stdout",
          "text": [
            "\n",
            " maximum arrival rate: 4.579999999999947\n"
          ]
        }
      ]
    },
    {
      "cell_type": "markdown",
      "source": [
        "# B"
      ],
      "metadata": {
        "id": "fKfUsyaQZRs5"
      }
    },
    {
      "cell_type": "code",
      "source": [
        "from sympy import *\n",
        "\n",
        "def find_q_and_alphas(Lambda, mu_1, mu_2):\n",
        "    q, a1, a2_s, a2_c = symbols('q, a1, a2_s, a2_c ')\n",
        "    p = a1/mu_1\n",
        "    return nsolve([Eq((p**5) /(120 + 120*p + 60*(p**2) + 20*(p**3) + 5*(p**4) + p**5), 1 - q),\n",
        "                   Eq(a1*q, a2_s), \n",
        "                   Eq(a2_c, (1-q)*a1),\n",
        "                   Eq(a1, Lambda + a2_c*a2_s/(mu_2 + a2_s))],\n",
        "                   [q, a1, a2_s, a2_c],\n",
        "                   [0.5, 0.5, 0.5, 0.5])"
      ],
      "metadata": {
        "id": "ZrObZpzmZJqd"
      },
      "execution_count": null,
      "outputs": []
    },
    {
      "cell_type": "code",
      "source": [
        "def discribe_1(Lambda, mu_1, mu_2):\n",
        "    q, a1, a2_s, a2_c = find_q_and_alphas(Lambda, mu_1, mu_2)\n",
        "\n",
        "    p_1 = a1/mu_1\n",
        "    p_2 = a2_c/(mu_2 + a2_s)\n",
        "    \n",
        "    N_1 = p_1*exp(p_1)*120/(120 + 120*p_1 + 60*(p_1**2) + 20*(p_1**3) + 5*(p_1**4) + p_1**5)\n",
        "    N_2 = p_2/(1-p_2)\n",
        " \n",
        "    w = (N_1 * N_2)/Lambda\n",
        "    \n",
        "    if p_2 > 1 :\n",
        "        a = 'none'\n",
        "    else:\n",
        "        a = {'waiting time':w, 'alpha_1':a1, 'alpha_2_customer':a2_c, 'alpha_2_negative_signal':a2_s  , 'probability of depart': q}\n",
        "    return a"
      ],
      "metadata": {
        "id": "g0Ck7xWtZJmX"
      },
      "execution_count": null,
      "outputs": []
    },
    {
      "cell_type": "code",
      "source": [
        "a, lam  = 0, 0\n",
        "waiting_time, Lambda, q= [], [], []\n",
        "\n",
        "while a !='none':\n",
        "    lam += 0.01\n",
        "    a = discribe_1(lam, 1, 0.01)\n",
        "\n",
        "    if a != 'none' and a['alpha_1'] > 0 and a['alpha_2_customer'] > 0 and a['alpha_2_negative_signal'] > 0 :\n",
        "        Lambda.append(lam)\n",
        "        waiting_time.append(a['waiting time'])\n",
        "        q.append(a['probability of depart'])"
      ],
      "metadata": {
        "id": "aCXI1XPNsjT-"
      },
      "execution_count": null,
      "outputs": []
    },
    {
      "cell_type": "code",
      "source": [
        "lambda_to_waiting_time = {}\n",
        "lambda_to_q = {}\n",
        "\n",
        "for i in range(len(Lambda)):\n",
        "    if i % 20 == 0 and i < 0.8*(len(Lambda)):\n",
        "        lambda_to_waiting_time[round((Lambda[i]), 3)] = round(waiting_time[i], 4)\n",
        "        lambda_to_q[round((Lambda[i]), 3)] = round(q[i], 4)\n",
        "        \n",
        "    elif i > 0.8*(len(Lambda)) and i % 2 == 0 :\n",
        "        lambda_to_waiting_time[round((Lambda[i]), 3)] = round(waiting_time[i], 4)\n",
        "        lambda_to_q[round((Lambda[i]), 3)] = round(q[i], 4)"
      ],
      "metadata": {
        "id": "4gmUG1DVtIpD"
      },
      "execution_count": null,
      "outputs": []
    },
    {
      "cell_type": "code",
      "source": [
        "lambda_to_waiting_time"
      ],
      "metadata": {
        "colab": {
          "base_uri": "https://localhost:8080/"
        },
        "id": "htc0lYUktL48",
        "outputId": "4048bd02-db46-4119-dc52-860bee8719ef"
      },
      "execution_count": null,
      "outputs": [
        {
          "output_type": "execute_result",
          "data": {
            "text/plain": [
              "{0.01: 0.0,\n",
              " 0.21: 0.0,\n",
              " 0.41: 0.0001,\n",
              " 0.61: 0.0004,\n",
              " 0.81: 0.0013,\n",
              " 1.01: 0.0032,\n",
              " 1.21: 0.0067,\n",
              " 1.41: 0.0123,\n",
              " 1.61: 0.0206,\n",
              " 1.81: 0.0325,\n",
              " 2.01: 0.0492,\n",
              " 2.21: 0.0726,\n",
              " 2.41: 0.1057,\n",
              " 2.61: 0.1535,\n",
              " 2.81: 0.2250,\n",
              " 3.01: 0.3376,\n",
              " 3.21: 0.5281,\n",
              " 3.39: 0.8369,\n",
              " 3.41: 0.8850,\n",
              " 3.43: 0.9367,\n",
              " 3.45: 0.9927,\n",
              " 3.47: 1.0533,\n",
              " 3.49: 1.1191,\n",
              " 3.51: 1.1906,\n",
              " 3.53: 1.2684,\n",
              " 3.55: 1.3535,\n",
              " 3.57: 1.4465,\n",
              " 3.59: 1.5485,\n",
              " 3.61: 1.6607,\n",
              " 3.63: 1.7844,\n",
              " 3.65: 1.9213,\n",
              " 3.67: 2.0731,\n",
              " 3.69: 2.2420,\n",
              " 3.71: 2.4306,\n",
              " 3.73: 2.6419,\n",
              " 3.75: 2.8797,\n",
              " 3.77: 3.1484,\n",
              " 3.79: 3.4532,\n",
              " 3.81: 3.8007,\n",
              " 3.83: 4.1990,\n",
              " 3.85: 4.6581,\n",
              " 3.87: 5.1905,\n",
              " 3.89: 5.8119,\n",
              " 3.91: 6.5428,\n",
              " 3.93: 7.4093,\n",
              " 3.95: 8.4461,\n",
              " 3.97: 9.6995,\n",
              " 3.99: 11.2325,\n",
              " 4.01: 13.1326,\n",
              " 4.03: 15.5250,\n",
              " 4.05: 18.5935,\n",
              " 4.07: 22.6183,\n",
              " 4.09: 28.0460,\n",
              " 4.11: 35.6306,\n",
              " 4.13: 46.7431,\n",
              " 4.15: 64.1500,\n",
              " 4.17: 94.3509,\n",
              " 4.19: 156.9598,\n",
              " 4.21: 350.7693}"
            ]
          },
          "metadata": {},
          "execution_count": 245
        }
      ]
    },
    {
      "cell_type": "code",
      "source": [
        "lambda_to_q"
      ],
      "metadata": {
        "colab": {
          "base_uri": "https://localhost:8080/"
        },
        "id": "L_OcVCKPtL1y",
        "outputId": "ace2f5b4-d82e-43ad-dd55-1174dfe7adbb"
      },
      "execution_count": null,
      "outputs": [
        {
          "output_type": "execute_result",
          "data": {
            "text/plain": [
              "{0.01: 1.00000000000000,\n",
              " 0.21: 1.00000000000000,\n",
              " 0.41: 0.9999,\n",
              " 0.61: 0.9996,\n",
              " 0.81: 0.9987,\n",
              " 1.01: 0.9968,\n",
              " 1.21: 0.9934,\n",
              " 1.41: 0.9881,\n",
              " 1.61: 0.9806,\n",
              " 1.81: 0.9705,\n",
              " 2.01: 0.9575,\n",
              " 2.21: 0.9413,\n",
              " 2.41: 0.9216,\n",
              " 2.61: 0.8980,\n",
              " 2.81: 0.8702,\n",
              " 3.01: 0.8377,\n",
              " 3.21: 0.8002,\n",
              " 3.39: 0.7615,\n",
              " 3.41: 0.7569,\n",
              " 3.43: 0.7522,\n",
              " 3.45: 0.7475,\n",
              " 3.47: 0.7427,\n",
              " 3.49: 0.7378,\n",
              " 3.51: 0.7329,\n",
              " 3.53: 0.7279,\n",
              " 3.55: 0.7228,\n",
              " 3.57: 0.7176,\n",
              " 3.59: 0.7124,\n",
              " 3.61: 0.7071,\n",
              " 3.63: 0.7018,\n",
              " 3.65: 0.6963,\n",
              " 3.67: 0.6908,\n",
              " 3.69: 0.6852,\n",
              " 3.71: 0.6795,\n",
              " 3.73: 0.6738,\n",
              " 3.75: 0.6679,\n",
              " 3.77: 0.6620,\n",
              " 3.79: 0.6560,\n",
              " 3.81: 0.6499,\n",
              " 3.83: 0.6437,\n",
              " 3.85: 0.6375,\n",
              " 3.87: 0.6311,\n",
              " 3.89: 0.6247,\n",
              " 3.91: 0.6181,\n",
              " 3.93: 0.6115,\n",
              " 3.95: 0.6048,\n",
              " 3.97: 0.5979,\n",
              " 3.99: 0.5910,\n",
              " 4.01: 0.5840,\n",
              " 4.03: 0.5768,\n",
              " 4.05: 0.5696,\n",
              " 4.07: 0.5623,\n",
              " 4.09: 0.5548,\n",
              " 4.11: 0.5472,\n",
              " 4.13: 0.5395,\n",
              " 4.15: 0.5317,\n",
              " 4.17: 0.5238,\n",
              " 4.19: 0.5158,\n",
              " 4.21: 0.5076}"
            ]
          },
          "metadata": {},
          "execution_count": 246
        }
      ]
    },
    {
      "cell_type": "code",
      "source": [
        "import matplotlib.pyplot as plt\n",
        "from matplotlib.pyplot import figure\n",
        "\n",
        "plt.figure(figsize=(18,5))\n",
        "\n",
        "plt.subplot(1, 2, 1)\n",
        "plt.plot(Lambda, waiting_time)\n",
        "plt.xlabel(\"Lambda\")\n",
        "plt.ylabel(\"waiting time\")\n",
        "plt.grid()\n",
        "\n",
        "plt.subplot(1, 2, 2)\n",
        "plt.plot(Lambda,q)\n",
        "plt.xlabel(\"Lambda\")\n",
        "plt.ylabel(\"probability of depart\")\n",
        "plt.grid()\n",
        "\n",
        "plt.show()\n",
        "print('\\n maximum arrival rate:',max(Lambda))\n"
      ],
      "metadata": {
        "colab": {
          "base_uri": "https://localhost:8080/",
          "height": 369
        },
        "id": "xD26_djBtLIG",
        "outputId": "fb0a556d-6149-4712-ddff-9472dc2dab54"
      },
      "execution_count": null,
      "outputs": [
        {
          "output_type": "display_data",
          "data": {
            "text/plain": [
              "<Figure size 1296x360 with 2 Axes>"
            ],
            "image/png": "[encoded data removed]"
          },
          "metadata": {
            "needs_background": "light"
          }
        },
        {
          "output_type": "stream",
          "name": "stdout",
          "text": [
            "\n",
            " maximum arrival rate: 4.2199999999999545\n"
          ]
        }
      ]
    },
    {
      "cell_type": "markdown",
      "source": [
        "# C"
      ],
      "metadata": {
        "id": "gJvPIoRX3pW5"
      }
    },
    {
      "cell_type": "code",
      "source": [
        "from sympy import *\n",
        "\n",
        "def find_q_and_alphas_1(Lambda, mu_1, mu_2, mu_3):\n",
        "    q = symbols('q')\n",
        "    a1 = Lambda + mu_3\n",
        "    p = a1/mu_1\n",
        "    x = nsolve(Eq((p**5) /(120 + 120*p + 60*(p**2) + 20*(p**3) + 5*(p**4) + p**5), 1 - q), q, 0.5)\n",
        "    a2_c = (1-x)*(Lambda + mu_3)\n",
        "    a2_sn = x*(Lambda + mu_3)\n",
        "    a3_sp = a2_c*a2_sn/(mu_2 + a2_sn)\n",
        "    return x, a1, a2_c, a2_sn, a3_sp"
      ],
      "metadata": {
        "id": "1s_FWw_B1EgM"
      },
      "execution_count": null,
      "outputs": []
    },
    {
      "cell_type": "code",
      "source": [
        "def discribe_1(Lambda, mu_1, mu_2, mu_3):\n",
        "    q, a1, a2_c, a2_sn, a3_sp = find_q_and_alphas_1(Lambda, mu_1, mu_2, mu_3)\n",
        "\n",
        "    p_1 = a1/mu_1\n",
        "    p_2 = a2_c/(mu_2 + a2_sn)\n",
        "    p_3 = a3_sp/mu_3\n",
        "\n",
        "    N_1 = p_1*exp(p_1)*120/(120 + 120*p_1 + 60*(p_1**2) + 20*(p_1**3) + 5*(p_1**4) + p_1**5)\n",
        "    N_2 = p_2/(1-p_2)\n",
        "    N_3 = p_3/(1-p_3)\n",
        "\n",
        "    w = (N_1 * N_2 * N_3)/Lambda\n",
        "    \n",
        "    if p_2 > 1  or p_3 > 1:\n",
        "        a = 'none'\n",
        "    else:\n",
        "        a = {'waiting time':w, 'alpha_1':a1, 'alpha_2_customer':a2_c, 'alpha_2_negative_signal':a2_sn , 'probability of depart': q}\n",
        "    return a"
      ],
      "metadata": {
        "id": "omHs3KfOS1x8"
      },
      "execution_count": null,
      "outputs": []
    },
    {
      "cell_type": "code",
      "source": [
        "a, lam  = 0, 0\n",
        "waiting_time, Lambda, q= [], [], []\n",
        "\n",
        "while a !='none':\n",
        "    lam += 0.01\n",
        "    a = discribe_1(lam, 1, 0.01, 5)\n",
        "\n",
        "    if a != 'none' and a['alpha_1']>0 and a['alpha_2_customer']>0 and a['alpha_2_negative_signal']>0 :\n",
        "        Lambda.append(lam)\n",
        "        waiting_time.append(a['waiting time'])\n",
        "        q.append(a['probability of depart'])"
      ],
      "metadata": {
        "id": "CgfiF-AWUUOx"
      },
      "execution_count": null,
      "outputs": []
    },
    {
      "cell_type": "code",
      "source": [
        "lambda_to_waiting_time = {}\n",
        "lambda_to_q = {}\n",
        "\n",
        "for i in range(len(Lambda)):\n",
        "    if i % 20 == 0 and i < 0.8*(len(Lambda)):\n",
        "        lambda_to_waiting_time[round((Lambda[i]), 3)] = round(waiting_time[i], 4)\n",
        "        lambda_to_q[round((Lambda[i]), 3)] = round(q[i], 4)\n",
        "        \n",
        "    elif i > 0.8*(len(Lambda)) and i % 2 == 0 :\n",
        "        lambda_to_waiting_time[round((Lambda[i]), 3)] = round(waiting_time[i], 4)\n",
        "        lambda_to_q[round((Lambda[i]), 3)] = round(q[i], 4)"
      ],
      "metadata": {
        "id": "n1xaBTKJWS9y"
      },
      "execution_count": null,
      "outputs": []
    },
    {
      "cell_type": "code",
      "source": [
        "lambda_to_waiting_time"
      ],
      "metadata": {
        "colab": {
          "base_uri": "https://localhost:8080/"
        },
        "id": "ewdhaacOWaSg",
        "outputId": "1a6d0853-b38d-4cf9-f81e-69bb7617edca"
      },
      "execution_count": null,
      "outputs": [
        {
          "output_type": "execute_result",
          "data": {
            "text/plain": [
              "{0.01: 216.1681,\n",
              " 0.21: 14.8040,\n",
              " 0.41: 10.8905,\n",
              " 0.61: 10.5169,\n",
              " 0.81: 11.4029,\n",
              " 1.01: 13.2172,\n",
              " 1.21: 16.0389,\n",
              " 1.41: 20.1724,\n",
              " 1.61: 26.1733,\n",
              " 1.81: 34.9827,\n",
              " 2.01: 48.2190,\n",
              " 2.21: 68.7899,\n",
              " 2.41: 102.2785,\n",
              " 2.61: 160.4442,\n",
              " 2.77: 242.5816,\n",
              " 2.79: 256.5513,\n",
              " 2.81: 271.6309,\n",
              " 2.83: 287.9388,\n",
              " 2.85: 305.6095,\n",
              " 2.87: 324.7969,\n",
              " 2.89: 345.6775,\n",
              " 2.91: 368.4549,\n",
              " 2.93: 393.3650,\n",
              " 2.95: 420.6825,\n",
              " 2.97: 450.7291,\n",
              " 2.99: 483.8838,\n",
              " 3.01: 520.5960,\n",
              " 3.03: 561.4025,\n",
              " 3.05: 606.9493,\n",
              " 3.07: 658.0208,\n",
              " 3.09: 715.5783,\n",
              " 3.11: 780.8122,\n",
              " 3.13: 855.2142,\n",
              " 3.15: 940.6778,\n",
              " 3.17: 1039.6425,\n",
              " 3.19: 1155.3043,\n",
              " 3.21: 1291.9319,\n",
              " 3.23: 1455.3554,\n",
              " 3.25: 1653.7492,\n",
              " 3.27: 1898.9366,\n",
              " 3.29: 2208.6759,\n",
              " 3.31: 2610.9097,\n",
              " 3.33: 3152.2724,\n",
              " 3.35: 3916.8368,\n",
              " 3.37: 5073.0755,\n",
              " 3.39: 7015.1774,\n",
              " 3.41: 10931.2307,\n",
              " 3.43: 22827.7519}"
            ]
          },
          "metadata": {},
          "execution_count": 280
        }
      ]
    },
    {
      "cell_type": "code",
      "source": [
        "lambda_to_q"
      ],
      "metadata": {
        "colab": {
          "base_uri": "https://localhost:8080/"
        },
        "id": "X_g4CenrWaJ2",
        "outputId": "95832d74-181b-4bc2-90ce-9477e12ba1e8"
      },
      "execution_count": null,
      "outputs": [
        {
          "output_type": "execute_result",
          "data": {
            "text/plain": [
              "{0.01: 0.7143,\n",
              " 0.21: 0.6983,\n",
              " 0.41: 0.6828,\n",
              " 0.61: 0.6677,\n",
              " 0.81: 0.6531,\n",
              " 1.01: 0.6389,\n",
              " 1.21: 0.6252,\n",
              " 1.41: 0.6119,\n",
              " 1.61: 0.5991,\n",
              " 1.81: 0.5867,\n",
              " 2.01: 0.5747,\n",
              " 2.21: 0.5631,\n",
              " 2.41: 0.5519,\n",
              " 2.61: 0.5411,\n",
              " 2.77: 0.5327,\n",
              " 2.79: 0.5316,\n",
              " 2.81: 0.5306,\n",
              " 2.83: 0.5296,\n",
              " 2.85: 0.5286,\n",
              " 2.87: 0.5275,\n",
              " 2.89: 0.5265,\n",
              " 2.91: 0.5255,\n",
              " 2.93: 0.5245,\n",
              " 2.95: 0.5235,\n",
              " 2.97: 0.5225,\n",
              " 2.99: 0.5215,\n",
              " 3.01: 0.5205,\n",
              " 3.03: 0.5195,\n",
              " 3.05: 0.5185,\n",
              " 3.07: 0.5175,\n",
              " 3.09: 0.5165,\n",
              " 3.11: 0.5156,\n",
              " 3.13: 0.5146,\n",
              " 3.15: 0.5136,\n",
              " 3.17: 0.5126,\n",
              " 3.19: 0.5117,\n",
              " 3.21: 0.5107,\n",
              " 3.23: 0.5098,\n",
              " 3.25: 0.5088,\n",
              " 3.27: 0.5078,\n",
              " 3.29: 0.5069,\n",
              " 3.31: 0.5059,\n",
              " 3.33: 0.5050,\n",
              " 3.35: 0.5041,\n",
              " 3.37: 0.5031,\n",
              " 3.39: 0.5022,\n",
              " 3.41: 0.5013,\n",
              " 3.43: 0.5003}"
            ]
          },
          "metadata": {},
          "execution_count": 277
        }
      ]
    },
    {
      "cell_type": "code",
      "source": [
        "import matplotlib.pyplot as plt\n",
        "from matplotlib.pyplot import figure\n",
        "\n",
        "plt.figure(figsize=(18,5))\n",
        "\n",
        "plt.subplot(1, 2, 1)\n",
        "plt.plot(Lambda, waiting_time)\n",
        "plt.xlabel(\"Lambda\")\n",
        "plt.ylabel(\"waiting time\")\n",
        "plt.grid()\n",
        "\n",
        "plt.subplot(1, 2, 2)\n",
        "plt.plot(Lambda,q)\n",
        "plt.xlabel(\"Lambda\")\n",
        "plt.ylabel(\"probability of depart\")\n",
        "plt.grid()\n",
        "\n",
        "plt.show()\n",
        "print('\\n maximum arrival rate:',max(Lambda))\n"
      ],
      "metadata": {
        "colab": {
          "base_uri": "https://localhost:8080/",
          "height": 369
        },
        "id": "889W2eWVUdPm",
        "outputId": "3bb26ed9-551f-42d3-868c-42958643d989"
      },
      "execution_count": null,
      "outputs": [
        {
          "output_type": "display_data",
          "data": {
            "text/plain": [
              "<Figure size 1296x360 with 2 Axes>"
            ],
            "image/png": "[encoded data removed]"
          },
          "metadata": {
            "needs_background": "light"
          }
        },
        {
          "output_type": "stream",
          "name": "stdout",
          "text": [
            "\n",
            " maximum arrival rate: 3.429999999999971\n"
          ]
        }
      ]
    },
    {
      "cell_type": "markdown",
      "source": [
        "# D"
      ],
      "metadata": {
        "id": "Z9ypypGMVx33"
      }
    }
  ]
}